{
  "nbformat": 4,
  "nbformat_minor": 0,
  "metadata": {
    "colab": {
      "provenance": []
    },
    "kernelspec": {
      "name": "python3",
      "display_name": "Python 3"
    },
    "language_info": {
      "name": "python"
    }
  },
  "cells": [
    {
      "cell_type": "code",
      "execution_count": 1,
      "metadata": {
        "colab": {
          "base_uri": "https://localhost:8080/"
        },
        "id": "mpHMm14VwM-C",
        "outputId": "e20b815a-2c84-48e4-dda1-39a678194d17"
      },
      "outputs": [
        {
          "output_type": "stream",
          "name": "stdout",
          "text": [
            "[1, 2, 'Multiple of 3', 4, 5, 'Multiple of 3', 7, 8, 'Multiple of 3', 10, 11, 'Multiple of 3', 13, 14, 'Multiple of 3', 16, 17, 'Multiple of 3', 19, 20]\n"
          ]
        }
      ],
      "source": [
        "my_data = []\n",
        "for i in range(1,21):\n",
        "    if i % 3 == 0:\n",
        "        my_data.append('Multiple of 3')\n",
        "    else:\n",
        "        my_data.append(i)\n",
        "print(my_data)"
      ]
    },
    {
      "cell_type": "code",
      "source": [],
      "metadata": {
        "id": "BwX7yL46zavq"
      },
      "execution_count": null,
      "outputs": []
    }
  ]
}